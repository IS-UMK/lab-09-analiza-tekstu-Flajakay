{
 "cells": [
  {
   "cell_type": "markdown",
   "metadata": {
    "slideshow": {
     "slide_type": "slide"
    }
   },
   "source": [
    "## Zadanie: Wykrywanie fejków\n",
    "\n",
    "1. Korzystając ze zbioru danych [dane/news_train.csv.gz](dane/news_train.csv.gz) zbuduj model klasyfikacji służący do wykrywania fałszywych wiadomości. \n",
    "Zbiór treningowy zawiera 6000 wiadomości w języku angielskim oznaczonych etykietami  ``'REAL'`` (wiadomość prawdziwa) lub  ``'FAKE'`` (wiadmość nieprawdziwa). Możesz użyć dowolnej metody wektoryzacji z laboratorium (``CountVectorizer``, ``TfidfVectorizer`` lub ``HashingVectorizer``) oraz dowolnej metody klasyfikacji (np. kNN, SVM, drzewo decyzyjne, regresja logistyczna). Dobierz parametry modelu tak aby dawał jak najwyższą poprawność wykrywania fejków."
   ]
  },
  {
   "cell_type": "code",
   "execution_count": 1,
   "metadata": {},
   "outputs": [
    {
     "name": "stdout",
     "output_type": "stream",
     "text": [
      "Accuracy: 0.9450\n"
     ]
    }
   ],
   "source": [
    "import pandas as pd\n",
    "import gzip\n",
    "from sklearn.feature_extraction.text import TfidfVectorizer\n",
    "from sklearn.linear_model import LogisticRegression\n",
    "from sklearn.model_selection import train_test_split\n",
    "from sklearn.metrics import accuracy_score\n",
    "import re\n",
    "\n",
    "with gzip.open('dane/news_train.csv.gz', 'rt', encoding='utf-8') as f:\n",
    "   df = pd.read_csv(f)\n",
    "\n",
    "def clean_text(text):\n",
    "   text = re.sub(r'[^a-zA-Z\\s]', '', str(text).lower())\n",
    "   return text\n",
    "\n",
    "df['text_clean'] = df['text'].apply(clean_text)\n",
    "\n",
    "X_train, X_test, y_train, y_test = train_test_split(df['text_clean'], df['label'], test_size=0.2, random_state=42)\n",
    "\n",
    "vectorizer = TfidfVectorizer(max_features=10000, ngram_range=(1,2), stop_words='english')\n",
    "X_train_vec = vectorizer.fit_transform(X_train)\n",
    "X_test_vec = vectorizer.transform(X_test)\n",
    "\n",
    "model = LogisticRegression(C=10, max_iter=1000)\n",
    "model.fit(X_train_vec, y_train)\n",
    "\n",
    "y_pred = model.predict(X_test_vec)\n",
    "accuracy = accuracy_score(y_test, y_pred)\n",
    "print(f\"Accuracy: {accuracy:.4f}\")\n"
   ]
  },
  {
   "cell_type": "markdown",
   "metadata": {
    "slideshow": {
     "slide_type": "slide"
    }
   },
   "source": [
    "2. Oceń jakość modelu klasyfikacji zbudowanego w poprzednim punkcie wykorzystując zbiór testowy [dane/news_test.csv.gz](dane/news_test.csv.gz).  \n",
    "Wyznacz poprawność klasyfikacji oraz macierz pomyłek."
   ]
  },
  {
   "cell_type": "code",
   "execution_count": null,
   "metadata": {},
   "outputs": [
    {
     "name": "stdout",
     "output_type": "stream",
     "text": [
      "Test Accuracy: 0.9356\n"
     ]
    }
   ],
   "source": [
    "with gzip.open('dane/news_test.csv.gz', 'rt', encoding='utf-8') as f:\n",
    "   test_df = pd.read_csv(f)\n",
    "\n",
    "test_df['text_clean'] = test_df['text'].apply(clean_text)\n",
    "\n",
    "X_test_final = vectorizer.transform(test_df['text_clean'])\n",
    "y_test_final = test_df['label']\n",
    "\n",
    "y_pred_final = model.predict(X_test_final)\n",
    "\n",
    "accuracy_final = accuracy_score(y_test_final, y_pred_final)\n",
    "\n",
    "print(f\"Test Accuracy: {accuracy_final:.4f}\")\n"
   ]
  },
  {
   "cell_type": "markdown",
   "metadata": {},
   "source": [
    "3. Weź najświeższą wiadomość ze strony CNN https://lite.cnn.com/ i wykorzystaj uzyskany model do odpowiedzi na pytanie, czy treść wiadomości jest prawdziwa czy nie? "
   ]
  },
  {
   "cell_type": "code",
   "execution_count": null,
   "metadata": {},
   "outputs": [
    {
     "name": "stdout",
     "output_type": "stream",
     "text": [
      "\n",
      "  By Jeremy Diamond, Kareem Khadder, Abeer Salman and Mohammad Al Sawalhi, CNN\n",
      " \n",
      "Updated: \n",
      "        1:50 PM EDT, Wed May 28, 2025\n",
      "     \n",
      "  Source: CNN\n",
      " \n",
      "  Chaos broke out at an aid distribution site in Gaza run by a controversial US-backed group on Tuesday as thousands of desperate Palestinians rushed to receive food supplies, with Israeli troops firing warning shots into the air and the US contractors overseeing the site briefly withdrawing.\n",
      " \n",
      "  An 11-week Israeli blockade on humanitarian aid has pushed the enclave’s population of more than 2 million Palestinians towards famine and into a deepening humanitarian crisis, with the first resumption of humanitarian aid trickling into the besieged enclave last week.\n",
      " \n",
      "  Videos from the distribution site in Tel al-Sultan, run by the Gaza Humanitarian Foundation (GHF), showed large crowds rushing the facilities, tearing down some of the fencing and appearing to climb over barriers designed to control the flow of the crowd.\n",
      " \n",
      "  On Wednesday, Palestinian health officials said one person had been shot dead and 48 wounded during the chaos. The person who was killed died of severe injuries at the Red Cross Field Hospital in Rafah, the officials said.\n",
      " \n",
      "  The GHF said later Wednesday that a second distribution site opened and distributed eight truckloads of food in Rafah in southern Gaza “without incident.” The first site in Tel al-Sultan also reopened on Wednesday, it added, after it was restocked with aid.\n",
      " \n",
      "  Wafiq Qdeih, who had come to the Tel al-Sultan site on Tuesday in the hope of receiving aid, said: “They want order, but there will be no order because these are desperate people who want to eat and drink.”\n",
      " \n",
      "  “The Israeli army was shooting in the air, and the Americans and their workers retreated, making it impossible to distribute aid to the people.”\n",
      " \n",
      "  Several residents trying to access the aid told CNN they were grateful for the food they received, but described walking long distances to reach the distribution center, hours-long lines and general confusion.\n",
      " \n",
      "  “The place is very far, and we struggled until we arrived. I am tired and exhausted. How can they provide food for all these people? There are too many people here; security will not be able to control them all,” Abu Ramzi said.\n",
      " \n",
      "  A diplomatic official called the chaos at the site “a surprise to no one.”\n",
      " \n",
      "  The GHF acknowledged the pandemonium, saying “the GHF team fell back to allow a small number” of Palestinians to take aid safely. “This was done in accordance with GHF protocol to avoid casualties,” it said.\n",
      " \n",
      "  A security source said American security contractors on the ground did not fire any shots and that operations would resume at the site on Wednesday.\n",
      " \n",
      "  The Israel Defense Forces said their troops fired warning shots in the area outside the compound and that the situation was brought under control. They denied carrying out aerial fire toward the site.\n",
      " \n",
      "  “It’s a big failure that we warned against,” said Amjad al-Shawa, director of Palestinian Non-Governmental Organizations Network.\n",
      " \n",
      "  “If Israel believes that through this blockade and emboldening starvation, which violates humanitarian principles, that this distribution method would work, they are mistaken.”\n",
      " \n",
      "  GHF said it has distributed about 8,000 food boxes totaling 462,000 meals in Gaza so far. They say the flow of meals will increase each day, with a goal of delivering food to 1.2 million – 60% of Gaza’s population – by the end of the week.\n",
      " \n",
      "  The GHF claimed it began operating on Monday, but photos from the organization showed only a handful of people carrying boxes of aid, with pallets of boxes sitting at an otherwise empty lot.\n",
      " \n",
      "  GHF is readying three additional sites for the distribution of aid, two of which are in southern Gaza and one in central Gaza. All of the sites in the south are in an area that fell under a massive evacuation order one day earlier.\n",
      " \n",
      "  There are no distribution sites in northern Gaza – a point of criticism from many aid experts. The UN has previously warned that the fact the initial sites were only in southern and central Gaza could be seen as encouraging Israel’s publicly stated goal of forcing “the entire Gazan population” out of northern Gaza, as Defense Minister Israel Katz put it earlier this month.\n",
      " \n",
      "  Wednesday marks 600 days of Israel’s war against Hamas following the deadly October 7 attacks and the military operations show no signs of abating despite rising international condemnation, including from many of Israel allies.\n",
      " \n",
      "  Israel plans to occupy 75% of Gaza within two months as part of its new offensive in the besieged territory, an Israeli military official told CNN earlier this week.\n",
      " \n",
      "  If carried out, the plans would force more than two million Palestinians into a quarter of the already decimated coastal enclave, surrounded on nearly all sides by Israeli forces. Israeli Prime Minister Benjamin Netanyahu said earlier this month the entire population would be displaced to southern Gaza.\n",
      " \n",
      "  The GHF aid mechanism “appears practically unfeasible, incompatible with humanitarian principles and will create serious insecurity risks, all while failing to meet Israel’s obligations under international law,” the UN Office for the Coordination of Humanitarian Affairs wrote earlier this month in a document obtained by CNN.\n",
      " \n",
      "  In a briefing with reporters on Tuesday an Israeli military official said that both the new mechanism and the old mechanism under the United Nations are working now. The Coordinator of Government Activities in the Territories (COGAT) said 95 trucks entered Gaza on Tuesday.\n",
      " \n",
      "  The UN Relief and Works Agency for Palestine Refugees (UNRWA) had earlier said that it is ready, with other humanitarian organizations, “to distribute meaningful quantities of aid the moment we are allowed to.”\n",
      " \n",
      "  Philippe Lazzarini, the Commissioner-General of UNRWA, condemned Tuesday’s chaotic scenes at the aid distribution point as “undignified” and “unsafe.”\n",
      " \n",
      "  “We have seen yesterday the shocking images of hungry people pushing against fences, desperate for food. It was chaotic, undignified and unsafe,” Lazzarini said, adding that “it is a waste of resources and a distraction from atrocities.”\n",
      " \n",
      "  Jens Laerke, a spokesperson for the UN aid coordination office, also criticized the GHF aid plan as “a distraction from what is actually needed, which is a reopening of all the crossings into Gaza, a secure environment within Gaza and faster facilitation of permissions and final approvals of all the emergency supplies that we have just outside the border.”\n",
      " \n",
      "  Other diplomats beyond the UN also expressed their concern about GHF’s role. The European Union’s foreign policy chief, Kaja Kallas, critiqued the aid plan as an attempt at weaponizing humanitarian aid.\n",
      " \n",
      "  “We have also been very clear on not supporting any kind of privatization of the distribution of humanitarian aid,” Kallas said Wednesday. “Humanitarian aid cannot be weaponized.”\n",
      " \n",
      "  “Bypassing the UN in aid deliveries undermines humanitarian principles,” she added.\n",
      " \n",
      "  Israel and the US had declined to name the humanitarian organizations involved in the controversial new mechanism, but images from the GHF showed boxes labeled “Rahma Worldwide,” a Michigan-based non-profit organization that says it provides “aid and assistance to the most vulnerable communities in the world.”\n",
      " \n",
      "This story has been updated.\n",
      " See Full Web Article \n",
      "\n",
      "      Go to the full CNN experience\n",
      "    \n",
      " \n",
      "    © 2025 Cable News Network. A Warner Bros. Discovery Company. All Rights Reserved.\n",
      "   \n",
      "\n",
      "      Terms of Use\n",
      "    \n",
      "\n",
      "      |\n",
      "    \n",
      "\n",
      "      Privacy Policy\n",
      "    \n",
      "\n",
      "      |\n",
      "    \n",
      "\n",
      "      Ad Choices\n",
      "    \n",
      "\n",
      "      |\n",
      "    \n",
      "\n",
      "      Cookie Settings\n",
      "    \n",
      "\n",
      "FAKE: 0.5336\n",
      "REAL: 0.4664\n"
     ]
    }
   ],
   "source": [
    "import requests\n",
    "from bs4 import BeautifulSoup\n",
    "\n",
    "url = \"https://lite.cnn.com/2025/05/27/middleeast/gaza-aid-distribution-chaos-ghf-intl-latam\"\n",
    "headers = {'User-Agent': 'Mozilla/5.0 (Windows NT 10.0; Win64; x64) AppleWebKit/537.36'}\n",
    "response = requests.get(url, headers=headers)\n",
    "soup = BeautifulSoup(response.content, 'html.parser')\n",
    "    \n",
    "paragraphs = soup.find_all('p')\n",
    "article_text = ' '.join([p.get_text() for p in paragraphs])\n",
    "    \n",
    "print(article_text)\n",
    "\n",
    "cleaned_article = clean_text(article_text)\n",
    "article_vectorized = vectorizer.transform([cleaned_article])\n",
    "prediction = model.predict(article_vectorized)\n",
    "probability = model.predict_proba(article_vectorized)\n",
    "\n",
    "print(f\"FAKE: {probability[0][0]:.4f}\")\n",
    "print(f\"REAL: {probability[0][1]:.4f}\")"
   ]
  }
 ],
 "metadata": {
  "celltoolbar": "Slideshow",
  "kernelspec": {
   "display_name": "Python 3",
   "language": "python",
   "name": "python3"
  },
  "language_info": {
   "codemirror_mode": {
    "name": "ipython",
    "version": 3
   },
   "file_extension": ".py",
   "mimetype": "text/x-python",
   "name": "python",
   "nbconvert_exporter": "python",
   "pygments_lexer": "ipython3",
   "version": "3.12.4"
  },
  "toc": {
   "base_numbering": 1,
   "nav_menu": {},
   "number_sections": true,
   "sideBar": true,
   "skip_h1_title": false,
   "title_cell": "Table of Contents",
   "title_sidebar": "Contents",
   "toc_cell": true,
   "toc_position": {},
   "toc_section_display": true,
   "toc_window_display": false
  },
  "varInspector": {
   "cols": {
    "lenName": 16,
    "lenType": 16,
    "lenVar": 40
   },
   "kernels_config": {
    "python": {
     "delete_cmd_postfix": "",
     "delete_cmd_prefix": "del ",
     "library": "var_list.py",
     "varRefreshCmd": "print(var_dic_list())"
    },
    "r": {
     "delete_cmd_postfix": ") ",
     "delete_cmd_prefix": "rm(",
     "library": "var_list.r",
     "varRefreshCmd": "cat(var_dic_list()) "
    }
   },
   "types_to_exclude": [
    "module",
    "function",
    "builtin_function_or_method",
    "instance",
    "_Feature"
   ],
   "window_display": false
  }
 },
 "nbformat": 4,
 "nbformat_minor": 4
}
